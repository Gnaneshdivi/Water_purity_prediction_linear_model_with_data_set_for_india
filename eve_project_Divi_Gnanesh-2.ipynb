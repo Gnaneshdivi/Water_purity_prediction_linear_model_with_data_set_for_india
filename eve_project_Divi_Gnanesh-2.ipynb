{
  "nbformat": 4,
  "nbformat_minor": 0,
  "metadata": {
    "colab": {
      "name": "eve project-Divi Gnanesh.ipynb",
      "provenance": []
    },
    "kernelspec": {
      "name": "python3",
      "display_name": "Python 3"
    }
  },
  "cells": [
    {
      "cell_type": "code",
      "metadata": {
        "colab": {
          "base_uri": "https://localhost:8080/",
          "height": 478
        },
        "id": "XBwDXF6OL-A_",
        "outputId": "a706954b-a0a9-446c-9ad6-6350ec3709c7"
      },
      "source": [
        "import numpy as np \n",
        "import pandas as pd \n",
        "import os\n",
        "from sklearn import neighbors,datasets\n",
        "from sklearn import linear_model\n",
        "from sklearn.model_selection import train_test_split\n",
        "from sklearn.metrics import mean_squared_error\n",
        "from sklearn import metrics\n",
        "import matplotlib.pyplot as plt\n",
        "main_data=pd.read_csv('/content/water_dataX.csv',encoding=\"ISO-8859-1\")\n",
        "main_data.fillna(0, inplace=True)\n",
        "main_data.head(10)"
      ],
      "execution_count": 54,
      "outputs": [
        {
          "output_type": "execute_result",
          "data": {
            "text/html": [
              "<div>\n",
              "<style scoped>\n",
              "    .dataframe tbody tr th:only-of-type {\n",
              "        vertical-align: middle;\n",
              "    }\n",
              "\n",
              "    .dataframe tbody tr th {\n",
              "        vertical-align: top;\n",
              "    }\n",
              "\n",
              "    .dataframe thead th {\n",
              "        text-align: right;\n",
              "    }\n",
              "</style>\n",
              "<table border=\"1\" class=\"dataframe\">\n",
              "  <thead>\n",
              "    <tr style=\"text-align: right;\">\n",
              "      <th></th>\n",
              "      <th>STATION CODE</th>\n",
              "      <th>LOCATIONS</th>\n",
              "      <th>STATE</th>\n",
              "      <th>Temp</th>\n",
              "      <th>D.O. (mg/l)</th>\n",
              "      <th>PH</th>\n",
              "      <th>CONDUCTIVITY (µmhos/cm)</th>\n",
              "      <th>B.O.D. (mg/l)</th>\n",
              "      <th>NITRATENAN N+ NITRITENANN (mg/l)</th>\n",
              "      <th>FECAL COLIFORM (MPN/100ml)</th>\n",
              "      <th>TOTAL COLIFORM (MPN/100ml)Mean</th>\n",
              "      <th>year</th>\n",
              "    </tr>\n",
              "  </thead>\n",
              "  <tbody>\n",
              "    <tr>\n",
              "      <th>0</th>\n",
              "      <td>1393</td>\n",
              "      <td>DAMANGANGA AT D/S OF MADHUBAN, DAMAN</td>\n",
              "      <td>DAMAN &amp; DIU</td>\n",
              "      <td>30.6</td>\n",
              "      <td>6.7</td>\n",
              "      <td>7.5</td>\n",
              "      <td>203</td>\n",
              "      <td>NAN</td>\n",
              "      <td>0.1</td>\n",
              "      <td>11</td>\n",
              "      <td>27</td>\n",
              "      <td>2014</td>\n",
              "    </tr>\n",
              "    <tr>\n",
              "      <th>1</th>\n",
              "      <td>1399</td>\n",
              "      <td>ZUARI AT D/S OF PT. WHERE KUMBARJRIA CANAL JOI...</td>\n",
              "      <td>GOA</td>\n",
              "      <td>29.8</td>\n",
              "      <td>5.7</td>\n",
              "      <td>7.2</td>\n",
              "      <td>189</td>\n",
              "      <td>2</td>\n",
              "      <td>0.2</td>\n",
              "      <td>4953</td>\n",
              "      <td>8391</td>\n",
              "      <td>2014</td>\n",
              "    </tr>\n",
              "    <tr>\n",
              "      <th>2</th>\n",
              "      <td>1475</td>\n",
              "      <td>ZUARI AT PANCHAWADI</td>\n",
              "      <td>GOA</td>\n",
              "      <td>29.5</td>\n",
              "      <td>6.3</td>\n",
              "      <td>6.9</td>\n",
              "      <td>179</td>\n",
              "      <td>1.7</td>\n",
              "      <td>0.1</td>\n",
              "      <td>3243</td>\n",
              "      <td>5330</td>\n",
              "      <td>2014</td>\n",
              "    </tr>\n",
              "    <tr>\n",
              "      <th>3</th>\n",
              "      <td>3181</td>\n",
              "      <td>RIVER ZUARI AT BORIM BRIDGE</td>\n",
              "      <td>GOA</td>\n",
              "      <td>29.7</td>\n",
              "      <td>5.8</td>\n",
              "      <td>6.9</td>\n",
              "      <td>64</td>\n",
              "      <td>3.8</td>\n",
              "      <td>0.5</td>\n",
              "      <td>5382</td>\n",
              "      <td>8443</td>\n",
              "      <td>2014</td>\n",
              "    </tr>\n",
              "    <tr>\n",
              "      <th>4</th>\n",
              "      <td>3182</td>\n",
              "      <td>RIVER ZUARI AT MARCAIM JETTY</td>\n",
              "      <td>GOA</td>\n",
              "      <td>29.5</td>\n",
              "      <td>5.8</td>\n",
              "      <td>7.3</td>\n",
              "      <td>83</td>\n",
              "      <td>1.9</td>\n",
              "      <td>0.4</td>\n",
              "      <td>3428</td>\n",
              "      <td>5500</td>\n",
              "      <td>2014</td>\n",
              "    </tr>\n",
              "    <tr>\n",
              "      <th>5</th>\n",
              "      <td>1400</td>\n",
              "      <td>MANDOVI AT NEGHBOURHOOD OF PANAJI, GOA</td>\n",
              "      <td>GOA</td>\n",
              "      <td>30</td>\n",
              "      <td>5.5</td>\n",
              "      <td>7.4</td>\n",
              "      <td>81</td>\n",
              "      <td>1.5</td>\n",
              "      <td>0.1</td>\n",
              "      <td>2853</td>\n",
              "      <td>4049</td>\n",
              "      <td>2014</td>\n",
              "    </tr>\n",
              "    <tr>\n",
              "      <th>6</th>\n",
              "      <td>1476</td>\n",
              "      <td>MANDOVI AT TONCA, MARCELA, GOA</td>\n",
              "      <td>GOA</td>\n",
              "      <td>29.2</td>\n",
              "      <td>6.1</td>\n",
              "      <td>6.7</td>\n",
              "      <td>308</td>\n",
              "      <td>1.4</td>\n",
              "      <td>0.3</td>\n",
              "      <td>3355</td>\n",
              "      <td>5672</td>\n",
              "      <td>2014</td>\n",
              "    </tr>\n",
              "    <tr>\n",
              "      <th>7</th>\n",
              "      <td>3185</td>\n",
              "      <td>RIVER MANDOVI AT AMONA BRIDGE</td>\n",
              "      <td>GOA</td>\n",
              "      <td>29.6</td>\n",
              "      <td>6.4</td>\n",
              "      <td>6.7</td>\n",
              "      <td>414</td>\n",
              "      <td>1</td>\n",
              "      <td>0.2</td>\n",
              "      <td>6073</td>\n",
              "      <td>9423</td>\n",
              "      <td>2014</td>\n",
              "    </tr>\n",
              "    <tr>\n",
              "      <th>8</th>\n",
              "      <td>3186</td>\n",
              "      <td>RIVER MANDOVI AT IFFI JETTY</td>\n",
              "      <td>GOA</td>\n",
              "      <td>30</td>\n",
              "      <td>6.4</td>\n",
              "      <td>7.6</td>\n",
              "      <td>305</td>\n",
              "      <td>2.2</td>\n",
              "      <td>0.1</td>\n",
              "      <td>3478</td>\n",
              "      <td>4990</td>\n",
              "      <td>2014</td>\n",
              "    </tr>\n",
              "    <tr>\n",
              "      <th>9</th>\n",
              "      <td>3187</td>\n",
              "      <td>RIVER MANDOVI NEAR HOTEL MARRIOT</td>\n",
              "      <td>GOA</td>\n",
              "      <td>30.1</td>\n",
              "      <td>6.3</td>\n",
              "      <td>7.6</td>\n",
              "      <td>77</td>\n",
              "      <td>2.3</td>\n",
              "      <td>0.1</td>\n",
              "      <td>2606</td>\n",
              "      <td>4301</td>\n",
              "      <td>2014</td>\n",
              "    </tr>\n",
              "  </tbody>\n",
              "</table>\n",
              "</div>"
            ],
            "text/plain": [
              "  STATION CODE  ...  year\n",
              "0         1393  ...  2014\n",
              "1         1399  ...  2014\n",
              "2         1475  ...  2014\n",
              "3         3181  ...  2014\n",
              "4         3182  ...  2014\n",
              "5         1400  ...  2014\n",
              "6         1476  ...  2014\n",
              "7         3185  ...  2014\n",
              "8         3186  ...  2014\n",
              "9         3187  ...  2014\n",
              "\n",
              "[10 rows x 12 columns]"
            ]
          },
          "metadata": {
            "tags": []
          },
          "execution_count": 54
        }
      ]
    },
    {
      "cell_type": "code",
      "metadata": {
        "colab": {
          "base_uri": "https://localhost:8080/",
          "height": 0
        },
        "id": "n_6xH8O6MfVo",
        "outputId": "2296f2f8-55ac-4e31-b83c-5972aef1380f"
      },
      "source": [
        "main_data['Temp']=pd.to_numeric(main_data['Temp'],errors='coerce')\n",
        "main_data['D.O. (mg/l)']=pd.to_numeric(main_data['D.O. (mg/l)'],errors='coerce')\n",
        "main_data['PH']=pd.to_numeric(main_data['PH'],errors='coerce')\n",
        "main_data['B.O.D. (mg/l)']=pd.to_numeric(main_data['B.O.D. (mg/l)'],errors='coerce')\n",
        "main_data['CONDUCTIVITY (µmhos/cm)']=pd.to_numeric(main_data['CONDUCTIVITY (µmhos/cm)'],errors='coerce')\n",
        "main_data['NITRATENAN N+ NITRITENANN (mg/l)']=pd.to_numeric(main_data['NITRATENAN N+ NITRITENANN (mg/l)'],errors='coerce')\n",
        "main_data['TOTAL COLIFORM (MPN/100ml)Mean']=pd.to_numeric(main_data['TOTAL COLIFORM (MPN/100ml)Mean'],errors='coerce')\n",
        "main_data.dtypes\n",
        "#converting the data to required format"
      ],
      "execution_count": 4,
      "outputs": [
        {
          "output_type": "execute_result",
          "data": {
            "text/plain": [
              "STATION CODE                         object\n",
              "LOCATIONS                            object\n",
              "STATE                                object\n",
              "Temp                                float64\n",
              "D.O. (mg/l)                         float64\n",
              "PH                                  float64\n",
              "CONDUCTIVITY (µmhos/cm)             float64\n",
              "B.O.D. (mg/l)                       float64\n",
              "NITRATENAN N+ NITRITENANN (mg/l)    float64\n",
              "FECAL COLIFORM (MPN/100ml)           object\n",
              "TOTAL COLIFORM (MPN/100ml)Mean      float64\n",
              "year                                  int64\n",
              "dtype: object"
            ]
          },
          "metadata": {
            "tags": []
          },
          "execution_count": 4
        }
      ]
    },
    {
      "cell_type": "code",
      "metadata": {
        "colab": {
          "base_uri": "https://localhost:8080/",
          "height": 0
        },
        "id": "nhWwcWBZMzdw",
        "outputId": "571536f4-ab58-4cf8-b959-19f294e11067"
      },
      "source": [
        "#initialization the data according to the model\n",
        "start=2\n",
        "end=1779\n",
        "station=main_data.iloc [start:end ,0]\n",
        "location=main_data.iloc [start:end ,1]\n",
        "state=main_data.iloc [start:end ,2]\n",
        "do= main_data.iloc [start:end ,4].astype(np.float64)\n",
        "value=0\n",
        "ph = main_data.iloc[ start:end,5]  \n",
        "co = main_data.iloc [start:end ,6].astype(np.float64)   \n",
        "  \n",
        "year=main_data.iloc[start:end,11]\n",
        "tc=main_data.iloc [2:end ,10].astype(np.float64)\n",
        "\n",
        "\n",
        "bod = main_data.iloc [start:end ,7].astype(np.float64)\n",
        "na= main_data.iloc [start:end ,8].astype(np.float64)\n",
        "na.dtype"
      ],
      "execution_count": 6,
      "outputs": [
        {
          "output_type": "execute_result",
          "data": {
            "text/plain": [
              "dtype('float64')"
            ]
          },
          "metadata": {
            "tags": []
          },
          "execution_count": 6
        }
      ]
    },
    {
      "cell_type": "code",
      "metadata": {
        "id": "2KGh_efiNOEa"
      },
      "source": [
        "data=pd.concat([location,state,do,ph,co,bod,na,tc,year],axis=1)\n",
        "data. columns = ['location','state','do','ph','co','bod','na','tc','year']"
      ],
      "execution_count": 7,
      "outputs": []
    },
    {
      "cell_type": "code",
      "metadata": {
        "id": "hqjhFP77NcLR"
      },
      "source": [
        "#normalising all the values on an fixed scale \n",
        "#calulation of Ph\n",
        "data['npH']=data.ph.apply(lambda x: (100 if (8.5>=x>=7)  \n",
        "                                 else(80 if  (8.6>=x>=8.5) or (6.9>=x>=6.8) \n",
        "                                      else(60 if (8.8>=x>=8.6) or (6.8>=x>=6.7) \n",
        "                                          else(40 if (9>=x>=8.8) or (6.7>=x>=6.5)\n",
        "                                              else 0)))))\n",
        "#calculation of dissolved oxygen\n",
        "data['ndo']=data.do.apply(lambda x:(100 if (x>=6)  \n",
        "                                 else(80 if  (6>=x>=5.1) \n",
        "                                      else(60 if (5>=x>=4.1)\n",
        "                                          else(40 if (4>=x>=3) \n",
        "                                              else 0)))))\n",
        "#calculation of total coliform\n",
        "data['nco']=data.tc.apply(lambda x:(100 if (5>=x>=0)  \n",
        "                                 else(80 if  (50>=x>=5) \n",
        "                                      else(60 if (500>=x>=50)\n",
        "                                          else(40 if (10000>=x>=500) \n",
        "                                              else 0)))))\n",
        "#calc of B.D.O\n",
        "data['nbdo']=data.bod.apply(lambda x:(100 if (3>=x>=0)  \n",
        "                                 else(80 if  (6>=x>=3) \n",
        "                                      else(60 if (80>=x>=6)\n",
        "                                          else(40 if (125>=x>=80) \n",
        "                                              else 0)))))\n",
        "#calculation of electrical conductivity\n",
        "data['nec']=data.co.apply(lambda x:(100 if (75>=x>=0)  \n",
        "                                 else(80 if  (150>=x>=75) \n",
        "                                      else(60 if (225>=x>=150)\n",
        "                                          else(40 if (300>=x>=225) \n",
        "                                              else 0)))))\n",
        "#Calulation of nitrate\n",
        "data['nna']=data.na.apply(lambda x:(100 if (20>=x>=0)  \n",
        "                                 else(80 if  (50>=x>=20) \n",
        "                                      else(60 if (100>=x>=50)\n",
        "                                          else(40 if (200>=x>=100) \n",
        "                                              else 0)))))"
      ],
      "execution_count": 8,
      "outputs": []
    },
    {
      "cell_type": "code",
      "metadata": {
        "id": "MvZnYvFbNwlU"
      },
      "source": [
        "#multipling with constant values to bring it to a standard scale\n",
        "data['wph']=data.npH * 0.165 #water ph vales\n",
        "data['wdo']=data.ndo * 0.281 #water oxygen demand\n",
        "data['wbdo']=data.nbdo * 0.234 #water biological oxygenn demand\n",
        "data['wec']=data.nec* 0.009 #water electrical conductivity\n",
        "data['wna']=data.nna * 0.028 #water nitrite concentration\n",
        "data['wco']=data.nco * 0.281 #water total coliform\n",
        "data['wqi']=data.wph+data.wdo+data.wbdo+data.wec+data.wna+data.wco \n",
        "#wqi is the water quality index and it determines the purity of water if the value is high than the water is least pure\n"
      ],
      "execution_count": 11,
      "outputs": []
    },
    {
      "cell_type": "code",
      "metadata": {
        "colab": {
          "base_uri": "https://localhost:8080/",
          "height": 0
        },
        "id": "GpfoafgvNzBL",
        "outputId": "fe6152a7-4007-46ac-b285-7f4b47548485"
      },
      "source": [
        "#calculation overall wqi for each year,That is calulating the mean of the complete year.\n",
        "filtered_data=data.groupby('year')['wqi'].mean()\n",
        "filtered_data"
      ],
      "execution_count": 13,
      "outputs": [
        {
          "output_type": "execute_result",
          "data": {
            "text/plain": [
              "year\n",
              "2006    71.308824\n",
              "2007    72.549000\n",
              "2008    72.570943\n",
              "2009    74.085193\n",
              "2010    74.648723\n",
              "2011    75.647013\n",
              "2012    78.969041\n",
              "2013    75.009425\n",
              "2014    76.879588\n",
              "Name: wqi, dtype: float64"
            ]
          },
          "metadata": {
            "tags": []
          },
          "execution_count": 13
        }
      ]
    },
    {
      "cell_type": "code",
      "metadata": {
        "id": "bxOhtZGzPOLX"
      },
      "source": [
        "#PLacing the above table in datastructure using index\n",
        "index_fdata=filtered_data.reset_index(level=0,inplace=False)"
      ],
      "execution_count": 17,
      "outputs": []
    },
    {
      "cell_type": "code",
      "metadata": {
        "colab": {
          "base_uri": "https://localhost:8080/",
          "height": 265
        },
        "id": "mH1TM9pfP0Ng",
        "outputId": "633cf954-8cf0-4fc9-d682-93bd78b52495"
      },
      "source": [
        "#scatter plot of data points\n",
        "xvalue=['year']\n",
        "y = index_fdata['wqi']\n",
        "x=index_fdata[xvalue]\n",
        "\n",
        "plt.scatter(x,y)\n",
        "plt.show()"
      ],
      "execution_count": 38,
      "outputs": [
        {
          "output_type": "display_data",
          "data": {
            "image/png": "[encoded data removed]",
            "text/plain": [
              "<Figure size 432x288 with 1 Axes>"
            ]
          },
          "metadata": {
            "tags": [],
            "needs_background": "light"
          }
        }
      ]
    },
    {
      "cell_type": "code",
      "metadata": {
        "id": "jXIU8Q8yRCXx"
      },
      "source": [
        "reg=linear_model.LinearRegression() ##running the linear regression with an object\n",
        "x_train,x_test,y_train,y_test=train_test_split(x,y,test_size=0.2,random_state=4) \n",
        "#training the model with 80 % of dataset with a random state to maintain the same rndom value for each run\n",
        "#split the complete data to training set and test set to check the accuracy"
      ],
      "execution_count": 39,
      "outputs": []
    },
    {
      "cell_type": "code",
      "metadata": {
        "colab": {
          "base_uri": "https://localhost:8080/",
          "height": 0
        },
        "id": "0SyJ92SQSYsb",
        "outputId": "1bc539aa-ccbd-4fc6-c343-a33ba8a3eb88"
      },
      "source": [
        "reg.fit(x_train,y_train)\n",
        "# Adding the training data to the linear model for training"
      ],
      "execution_count": 41,
      "outputs": [
        {
          "output_type": "execute_result",
          "data": {
            "text/plain": [
              "LinearRegression(copy_X=True, fit_intercept=True, n_jobs=None, normalize=False)"
            ]
          },
          "metadata": {
            "tags": []
          },
          "execution_count": 41
        }
      ]
    },
    {
      "cell_type": "code",
      "metadata": {
        "colab": {
          "base_uri": "https://localhost:8080/",
          "height": 0
        },
        "id": "w0itqVpnTSC0",
        "outputId": "3725782b-df1e-495e-d702-b95bc6a796eb"
      },
      "source": [
        "print(reg.predict(x_test))\n",
        "#Predicting the values for the test dataset which was devided"
      ],
      "execution_count": 45,
      "outputs": [
        {
          "output_type": "stream",
          "text": [
            "[73.86206246 74.59948715]\n"
          ],
          "name": "stdout"
        }
      ]
    },
    {
      "cell_type": "code",
      "metadata": {
        "id": "feI0BIIzSuyy"
      },
      "source": [
        "#defining the function to predict the water polution at any year \n",
        "def get_pred(x):\n",
        "  arr=np.array(x);\n",
        "  ar=arr.reshape(-1,1)\n",
        " \n",
        "\n",
        "  return reg.predict(ar)[0]\n",
        "\n"
      ],
      "execution_count": 46,
      "outputs": []
    },
    {
      "cell_type": "code",
      "metadata": {
        "colab": {
          "base_uri": "https://localhost:8080/",
          "height": 0
        },
        "id": "CLFLfmGCTD6s",
        "outputId": "dc5cf724-2414-4253-fadd-f57d25e84379"
      },
      "source": [
        "y_predicted=reg.predict(x_test)\n",
        "print('Rate of Deviation(mean square value):%.2f'%mean_squared_error(y_test,y_predicted))\n",
        "#Finding the deviation between the predicted value and actual value recorded "
      ],
      "execution_count": 58,
      "outputs": [
        {
          "output_type": "stream",
          "text": [
            "Rate of Deviation(root mean square value):0.03\n"
          ],
          "name": "stdout"
        }
      ]
    },
    {
      "cell_type": "code",
      "metadata": {
        "colab": {
          "base_uri": "https://localhost:8080/",
          "height": 111
        },
        "id": "htDIlt03UweW",
        "outputId": "9df078eb-32b8-4048-f043-a879b8eb2899"
      },
      "source": [
        "y_pred=reg.predict(x)\n",
        "compare_data = pd.DataFrame({'Actual': y_test, 'Predicted':y_predicted }) \n",
        "\n",
        "final_data=pd.DataFrame({'Actual': y, 'Predicted':y_pred }) \n",
        "final_data=pd.concat([index_fdata, final_data], axis=1)\n",
        "compare_data"
      ],
      "execution_count": 83,
      "outputs": [
        {
          "output_type": "execute_result",
          "data": {
            "text/html": [
              "<div>\n",
              "<style scoped>\n",
              "    .dataframe tbody tr th:only-of-type {\n",
              "        vertical-align: middle;\n",
              "    }\n",
              "\n",
              "    .dataframe tbody tr th {\n",
              "        vertical-align: top;\n",
              "    }\n",
              "\n",
              "    .dataframe thead th {\n",
              "        text-align: right;\n",
              "    }\n",
              "</style>\n",
              "<table border=\"1\" class=\"dataframe\">\n",
              "  <thead>\n",
              "    <tr style=\"text-align: right;\">\n",
              "      <th></th>\n",
              "      <th>Actual</th>\n",
              "      <th>Predicted</th>\n",
              "    </tr>\n",
              "  </thead>\n",
              "  <tbody>\n",
              "    <tr>\n",
              "      <th>3</th>\n",
              "      <td>74.085193</td>\n",
              "      <td>73.862062</td>\n",
              "    </tr>\n",
              "    <tr>\n",
              "      <th>4</th>\n",
              "      <td>74.648723</td>\n",
              "      <td>74.599487</td>\n",
              "    </tr>\n",
              "  </tbody>\n",
              "</table>\n",
              "</div>"
            ],
            "text/plain": [
              "      Actual  Predicted\n",
              "3  74.085193  73.862062\n",
              "4  74.648723  74.599487"
            ]
          },
          "metadata": {
            "tags": []
          },
          "execution_count": 83
        }
      ]
    },
    {
      "cell_type": "code",
      "metadata": {
        "colab": {
          "base_uri": "https://localhost:8080/",
          "height": 0
        },
        "id": "zAAF2-MhVOzw",
        "outputId": "3acab416-d661-4e16-cee4-fb5c07406d46"
      },
      "source": [
        "#Testing the accuracy of the model\n",
        "print(np.sqrt(metrics.mean_squared_error(y_test,y_predicted)))"
      ],
      "execution_count": 71,
      "outputs": [
        {
          "output_type": "stream",
          "text": [
            "0.16157291044356104\n"
          ],
          "name": "stdout"
        }
      ]
    },
    {
      "cell_type": "code",
      "metadata": {
        "colab": {
          "base_uri": "https://localhost:8080/",
          "height": 281
        },
        "id": "JGkRnmI0W7nj",
        "outputId": "1097005a-8d0d-4016-fafd-bf17fe53b294"
      },
      "source": [
        "#plotting the actual and predicted results that is with regression line \n",
        "x_axis=final_data.year\n",
        "y_axis=final_data.Actual\n",
        "y1_axis=final_data.Predicted\n",
        "plt.scatter(x_axis,y_axis)\n",
        "plt.plot(x_axis,y1_axis,color='r')\n",
        "plt.title(\"linear regression\")\n",
        "\n",
        "plt.show()"
      ],
      "execution_count": 81,
      "outputs": [
        {
          "output_type": "display_data",
          "data": {
            "image/png": "[encoded data removed]",
            "text/plain": [
              "<Figure size 432x288 with 1 Axes>"
            ]
          },
          "metadata": {
            "tags": [],
            "needs_background": "light"
          }
        }
      ]
    },
    {
      "cell_type": "code",
      "metadata": {
        "colab": {
          "base_uri": "https://localhost:8080/",
          "height": 0
        },
        "id": "3BfSa2NeZkqK",
        "outputId": "b0d90ab0-8734-4dd7-e56a-ba6b56beead3"
      },
      "source": [
        "#prdicting any year water polution rate with --input of 2020\n",
        "i=int(input(\"Enter the year to be predicted. :\"))\n",
        "print(\"The predicted value is \")\n",
        "get_pred(i)"
      ],
      "execution_count": 82,
      "outputs": [
        {
          "output_type": "stream",
          "text": [
            "Enter the year to be predicted. :2020\n",
            "The predicted value is \n"
          ],
          "name": "stdout"
        },
        {
          "output_type": "execute_result",
          "data": {
            "text/plain": [
              "81.97373408414"
            ]
          },
          "metadata": {
            "tags": []
          },
          "execution_count": 82
        }
      ]
    }
  ]
}